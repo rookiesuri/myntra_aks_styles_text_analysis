{
 "cells": [
  {
   "cell_type": "code",
   "execution_count": 1,
   "metadata": {},
   "outputs": [
    {
     "name": "stdout",
     "output_type": "stream",
     "text": [
      "<type 'str'>\n"
     ]
    }
   ],
   "source": [
    "s=' White and peach-coloured printed A-line kurta'\n",
    "print type(s)\n"
   ]
  },
  {
   "cell_type": "code",
   "execution_count": 8,
   "metadata": {},
   "outputs": [],
   "source": [
    "input_corpus=[]\n",
    "input_corpus.append(s)\n",
    "s = '(\\xef\\xbd\\xa1\\xef\\xbd\\xa5\\xcf\\x89\\xef\\xbd\\0xa0\\xa5\\xef\\xbd\\xa1)\\xef\\xbe\\x89'\n",
    "input_corpus.append(s)"
   ]
  },
  {
   "cell_type": "code",
   "execution_count": 11,
   "metadata": {},
   "outputs": [
    {
     "name": "stdout",
     "output_type": "stream",
     "text": [
      "0xa0 \n"
     ]
    }
   ],
   "source": [
    "s='0xa0'\n",
    "input_corpus.append(s)\n",
    "print input_corpus[2]"
   ]
  }
 ],
 "metadata": {
  "kernelspec": {
   "display_name": "Python 2",
   "language": "python",
   "name": "python2"
  },
  "language_info": {
   "codemirror_mode": {
    "name": "ipython",
    "version": 2
   },
   "file_extension": ".py",
   "mimetype": "text/x-python",
   "name": "python",
   "nbconvert_exporter": "python",
   "pygments_lexer": "ipython2",
   "version": "2.7.14"
  }
 },
 "nbformat": 4,
 "nbformat_minor": 2
}
